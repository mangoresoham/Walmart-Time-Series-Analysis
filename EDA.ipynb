{
 "cells": [
  {
   "cell_type": "code",
   "execution_count": null,
   "metadata": {
    "execution": {
     "iopub.execute_input": "2023-11-20T14:29:41.441675Z",
     "iopub.status.busy": "2023-11-20T14:29:41.441148Z",
     "iopub.status.idle": "2023-11-20T14:29:41.538308Z",
     "shell.execute_reply": "2023-11-20T14:29:41.536116Z",
     "shell.execute_reply.started": "2023-11-20T14:29:41.441616Z"
    }
   },
   "outputs": [],
   "source": [
    "import pandas as pd\n",
    "import numpy as np\n",
    "import matplotlib.pyplot as plt\n",
    "import seaborn as sns\n",
    "from sklearn.model_selection import train_test_split\n",
    "import xgboost as xgb\n",
    "from sklearn.inspection import permutation_importance\n",
    "#from skimpy import skim\n",
    "import calendar\n",
    "import holidays\n",
    "from pandasql import sqldf\n",
    "import plotly.express as px\n",
    "import plotly.graph_objs as go\n",
    "from plotly.subplots import make_subplots\n",
    "import plotly.figure_factory as ff\n",
    "import plotly.io as pio\n",
    "pio.renderers.default = 'iframe'\n",
    "from plotly.offline import iplot, init_notebook_mode\n",
    "init_notebook_mode()"
   ]
  },
  {
   "cell_type": "code",
   "execution_count": null,
   "metadata": {
    "execution": {
     "iopub.execute_input": "2023-11-20T14:29:41.543351Z",
     "iopub.status.busy": "2023-11-20T14:29:41.541400Z",
     "iopub.status.idle": "2023-11-20T14:29:41.920472Z",
     "shell.execute_reply": "2023-11-20T14:29:41.918882Z",
     "shell.execute_reply.started": "2023-11-20T14:29:41.543285Z"
    }
   },
   "outputs": [],
   "source": [
    "df_train=pd.read_csv('../input/walmart-recruiting-store-sales-forecasting/train.csv.zip')\n",
    "df_store=pd.read_csv('../input/walmart-recruiting-store-sales-forecasting/stores.csv')\n",
    "df_features=pd.read_csv('../input/walmart-recruiting-store-sales-forecasting/features.csv.zip')"
   ]
  },
  {
   "cell_type": "code",
   "execution_count": null,
   "metadata": {
    "execution": {
     "iopub.execute_input": "2023-11-20T14:29:41.923566Z",
     "iopub.status.busy": "2023-11-20T14:29:41.922938Z",
     "iopub.status.idle": "2023-11-20T14:29:41.948933Z",
     "shell.execute_reply": "2023-11-20T14:29:41.946572Z",
     "shell.execute_reply.started": "2023-11-20T14:29:41.923513Z"
    }
   },
   "outputs": [],
   "source": [
    "df_train"
   ]
  },
  {
   "cell_type": "code",
   "execution_count": null,
   "metadata": {
    "execution": {
     "iopub.execute_input": "2023-11-20T14:29:41.955416Z",
     "iopub.status.busy": "2023-11-20T14:29:41.953718Z",
     "iopub.status.idle": "2023-11-20T14:29:41.961899Z",
     "shell.execute_reply": "2023-11-20T14:29:41.960099Z",
     "shell.execute_reply.started": "2023-11-20T14:29:41.955360Z"
    }
   },
   "outputs": [],
   "source": [
    "#skim(df_train)"
   ]
  },
  {
   "cell_type": "code",
   "execution_count": null,
   "metadata": {
    "execution": {
     "iopub.execute_input": "2023-11-20T14:29:41.965666Z",
     "iopub.status.busy": "2023-11-20T14:29:41.964322Z",
     "iopub.status.idle": "2023-11-20T14:29:41.987949Z",
     "shell.execute_reply": "2023-11-20T14:29:41.986767Z",
     "shell.execute_reply.started": "2023-11-20T14:29:41.965568Z"
    }
   },
   "outputs": [],
   "source": [
    "df_store"
   ]
  },
  {
   "cell_type": "code",
   "execution_count": null,
   "metadata": {
    "execution": {
     "iopub.execute_input": "2023-11-20T14:29:41.989861Z",
     "iopub.status.busy": "2023-11-20T14:29:41.989367Z",
     "iopub.status.idle": "2023-11-20T14:29:41.997294Z",
     "shell.execute_reply": "2023-11-20T14:29:41.996182Z",
     "shell.execute_reply.started": "2023-11-20T14:29:41.989816Z"
    }
   },
   "outputs": [],
   "source": [
    "#skim(df_store)"
   ]
  },
  {
   "cell_type": "code",
   "execution_count": null,
   "metadata": {
    "execution": {
     "iopub.execute_input": "2023-11-20T14:29:42.000972Z",
     "iopub.status.busy": "2023-11-20T14:29:41.999360Z",
     "iopub.status.idle": "2023-11-20T14:29:42.038019Z",
     "shell.execute_reply": "2023-11-20T14:29:42.036229Z",
     "shell.execute_reply.started": "2023-11-20T14:29:42.000907Z"
    }
   },
   "outputs": [],
   "source": [
    "df_features"
   ]
  },
  {
   "cell_type": "code",
   "execution_count": null,
   "metadata": {
    "execution": {
     "iopub.execute_input": "2023-11-20T14:29:42.040136Z",
     "iopub.status.busy": "2023-11-20T14:29:42.039725Z",
     "iopub.status.idle": "2023-11-20T14:29:42.049092Z",
     "shell.execute_reply": "2023-11-20T14:29:42.046864Z",
     "shell.execute_reply.started": "2023-11-20T14:29:42.040103Z"
    }
   },
   "outputs": [],
   "source": [
    "#skim(df_features)"
   ]
  },
  {
   "cell_type": "markdown",
   "metadata": {},
   "source": [
    "#### So, after observing the 3 datasets i found that:\n",
    "#### A) Sales (Train)- \n",
    "- Date: The date of the week where this observation was taken.\n",
    "- Weekly_Sales: The sales recorded during that Week.\n",
    "- Store: The store which observation in recorded 1–45\n",
    "- Dept: One of 1–99 that shows the department.\n",
    "- IsHoliday: Boolean value representing a holiday week or not."
   ]
  },
  {
   "cell_type": "markdown",
   "metadata": {},
   "source": [
    "#### B) Features-\n",
    "- Temperature: Temperature of the region during that week.\n",
    "- Fuel_Price: Fuel Price in that region during that week.\n",
    "- MarkDown1:5 : Represents the Type of markdown and what quantity was available during that week.\n",
    "- CPI: Consumer Price Index during that week.\n",
    "- Unemployment: The unemployment rate during that week in the region of the store."
   ]
  },
  {
   "cell_type": "markdown",
   "metadata": {},
   "source": [
    "#### C) Store-\n",
    "- Store: The store number. Range from 1–45.\n",
    "- Type: Three types of stores ‘A’, ‘B’ or ‘C’.\n",
    "- Size: Sets the size of a Store would be calculated by the no. of products available in the particular store ranging from 34,000 to 210,000."
   ]
  },
  {
   "cell_type": "markdown",
   "metadata": {},
   "source": [
    "---\n",
    "## 🍀Merging the datasets Together"
   ]
  },
  {
   "cell_type": "markdown",
   "metadata": {},
   "source": [
    "### 🍁Merging Sales(Train) & Store"
   ]
  },
  {
   "cell_type": "code",
   "execution_count": null,
   "metadata": {
    "execution": {
     "iopub.execute_input": "2023-11-20T14:29:42.051459Z",
     "iopub.status.busy": "2023-11-20T14:29:42.051036Z",
     "iopub.status.idle": "2023-11-20T14:29:42.123762Z",
     "shell.execute_reply": "2023-11-20T14:29:42.121802Z",
     "shell.execute_reply.started": "2023-11-20T14:29:42.051426Z"
    }
   },
   "outputs": [],
   "source": [
    "df_store_sales=pd.merge(df_train, df_store, on='Store')\n",
    "df_store_sales"
   ]
  },
  {
   "cell_type": "markdown",
   "metadata": {},
   "source": [
    "### 🍁Merging the Features & Store Sales"
   ]
  },
  {
   "cell_type": "code",
   "execution_count": null,
   "metadata": {
    "execution": {
     "iopub.execute_input": "2023-11-20T14:29:42.130256Z",
     "iopub.status.busy": "2023-11-20T14:29:42.129741Z",
     "iopub.status.idle": "2023-11-20T14:29:42.441266Z",
     "shell.execute_reply": "2023-11-20T14:29:42.439574Z",
     "shell.execute_reply.started": "2023-11-20T14:29:42.130219Z"
    }
   },
   "outputs": [],
   "source": [
    "df=pd.merge(df_features, df_store_sales, on=[\"Store\", \"Date\"])\n",
    "df"
   ]
  },
  {
   "cell_type": "code",
   "execution_count": null,
   "metadata": {
    "execution": {
     "iopub.execute_input": "2023-11-20T14:29:42.445707Z",
     "iopub.status.busy": "2023-11-20T14:29:42.443338Z",
     "iopub.status.idle": "2023-11-20T14:29:42.488030Z",
     "shell.execute_reply": "2023-11-20T14:29:42.486233Z",
     "shell.execute_reply.started": "2023-11-20T14:29:42.445599Z"
    }
   },
   "outputs": [],
   "source": [
    "df.drop('IsHoliday_x', axis=1, inplace=True)"
   ]
  },
  {
   "cell_type": "markdown",
   "metadata": {},
   "source": [
    "#### 🌟Description of the Features:\n",
    "- Store: Represents the unique identifier or number assigned to each Walmart store where the sales data was recorded.\n",
    "- Date: Denotes the specific date when the sales and other associated data were recorded.\n",
    "- Temperature: Indicates the temperature on the recorded date, which might have an impact on consumer behavior and sales.\n",
    "- Fuel_Price: Refers to the cost of fuel on the recorded date, which might be relevant as it could affect transportation costs and subsequently impact sales.\n",
    "- MarkDown1, MarkDown2, MarkDown3, MarkDown4, MarkDown5: These columns might represent promotional markdowns or discounts applied to products in the respective weeks (if available). Markdowns are generally temporary price reductions or promotional offers.\n",
    "- CPI (Consumer Price Index): Represents the Consumer Price Index, which measures the changes in prices paid by consumers for goods and services. It's an economic indicator that could have an impact on consumer spending.\n",
    "- Unemployment: Refers to the unemployment rate for the recorded date, which can influence consumer confidence and spending behavior.\n",
    "- Dept: Represents the department within the Walmart store where the sales were made. Each department might sell different categories of products.\n",
    "- Weekly_Sales: Indicates the sales amount for a specific department in a store for a particular week or date.\n",
    "- IsHoliday_y: An indicator denoting whether the recorded date is a holiday.\n",
    "- Type: Represents the type or category of the Walmart store (e.g., supercenter, discount store, etc.). Different types might have varied sizes, layouts, or product offerings.\n",
    "- Size: Indicates the size or area of the Walmart store, likely in square footage."
   ]
  },
  {
   "cell_type": "markdown",
   "metadata": {},
   "source": [
    "---\n",
    "## 🍀Data Cleaning & Formating"
   ]
  },
  {
   "cell_type": "code",
   "execution_count": null,
   "metadata": {
    "execution": {
     "iopub.execute_input": "2023-11-20T14:29:42.490441Z",
     "iopub.status.busy": "2023-11-20T14:29:42.489957Z",
     "iopub.status.idle": "2023-11-20T14:29:42.502852Z",
     "shell.execute_reply": "2023-11-20T14:29:42.500050Z",
     "shell.execute_reply.started": "2023-11-20T14:29:42.490405Z"
    }
   },
   "outputs": [],
   "source": [
    "df.shape"
   ]
  },
  {
   "cell_type": "code",
   "execution_count": null,
   "metadata": {
    "execution": {
     "iopub.execute_input": "2023-11-20T14:29:42.506407Z",
     "iopub.status.busy": "2023-11-20T14:29:42.505778Z",
     "iopub.status.idle": "2023-11-20T14:29:42.528381Z",
     "shell.execute_reply": "2023-11-20T14:29:42.526568Z",
     "shell.execute_reply.started": "2023-11-20T14:29:42.506350Z"
    }
   },
   "outputs": [],
   "source": [
    "df.columns"
   ]
  },
  {
   "cell_type": "code",
   "execution_count": null,
   "metadata": {
    "execution": {
     "iopub.execute_input": "2023-11-20T14:29:42.531970Z",
     "iopub.status.busy": "2023-11-20T14:29:42.530753Z",
     "iopub.status.idle": "2023-11-20T14:29:42.650782Z",
     "shell.execute_reply": "2023-11-20T14:29:42.649332Z",
     "shell.execute_reply.started": "2023-11-20T14:29:42.531773Z"
    }
   },
   "outputs": [],
   "source": [
    "df.isna().sum()"
   ]
  },
  {
   "cell_type": "markdown",
   "metadata": {},
   "source": [
    "#### Here we can see that there are actually many missing values for the `Markdown` features. So, right now i'll be skipping thoes columns and perform analysis on the other columns.🙃"
   ]
  },
  {
   "cell_type": "code",
   "execution_count": null,
   "metadata": {
    "execution": {
     "iopub.execute_input": "2023-11-20T14:29:42.653389Z",
     "iopub.status.busy": "2023-11-20T14:29:42.652855Z",
     "iopub.status.idle": "2023-11-20T14:29:42.766297Z",
     "shell.execute_reply": "2023-11-20T14:29:42.764910Z",
     "shell.execute_reply.started": "2023-11-20T14:29:42.653338Z"
    }
   },
   "outputs": [],
   "source": [
    "df1=df.copy()"
   ]
  },
  {
   "cell_type": "code",
   "execution_count": null,
   "metadata": {
    "execution": {
     "iopub.execute_input": "2023-11-20T14:29:42.769136Z",
     "iopub.status.busy": "2023-11-20T14:29:42.768272Z",
     "iopub.status.idle": "2023-11-20T14:29:42.797580Z",
     "shell.execute_reply": "2023-11-20T14:29:42.795308Z",
     "shell.execute_reply.started": "2023-11-20T14:29:42.769088Z"
    }
   },
   "outputs": [],
   "source": [
    "df1.drop(['MarkDown1', 'MarkDown2', 'MarkDown3', \"MarkDown4\", \"MarkDown5\"], axis=1, inplace=True)"
   ]
  },
  {
   "cell_type": "code",
   "execution_count": null,
   "metadata": {
    "execution": {
     "iopub.execute_input": "2023-11-20T14:29:42.801215Z",
     "iopub.status.busy": "2023-11-20T14:29:42.800129Z",
     "iopub.status.idle": "2023-11-20T14:29:42.848248Z",
     "shell.execute_reply": "2023-11-20T14:29:42.845054Z",
     "shell.execute_reply.started": "2023-11-20T14:29:42.801153Z"
    }
   },
   "outputs": [],
   "source": [
    "df1"
   ]
  },
  {
   "cell_type": "code",
   "execution_count": null,
   "metadata": {
    "execution": {
     "iopub.execute_input": "2023-11-20T14:29:42.852440Z",
     "iopub.status.busy": "2023-11-20T14:29:42.851755Z",
     "iopub.status.idle": "2023-11-20T14:29:42.868266Z",
     "shell.execute_reply": "2023-11-20T14:29:42.864754Z",
     "shell.execute_reply.started": "2023-11-20T14:29:42.852376Z"
    }
   },
   "outputs": [],
   "source": [
    "df1.columns"
   ]
  },
  {
   "cell_type": "code",
   "execution_count": null,
   "metadata": {
    "execution": {
     "iopub.execute_input": "2023-11-20T14:29:42.874463Z",
     "iopub.status.busy": "2023-11-20T14:29:42.872410Z",
     "iopub.status.idle": "2023-11-20T14:29:43.008094Z",
     "shell.execute_reply": "2023-11-20T14:29:43.006216Z",
     "shell.execute_reply.started": "2023-11-20T14:29:42.874265Z"
    }
   },
   "outputs": [],
   "source": [
    "df1.info()"
   ]
  },
  {
   "cell_type": "code",
   "execution_count": null,
   "metadata": {
    "execution": {
     "iopub.execute_input": "2023-11-20T14:29:43.011155Z",
     "iopub.status.busy": "2023-11-20T14:29:43.010592Z",
     "iopub.status.idle": "2023-11-20T14:29:43.127393Z",
     "shell.execute_reply": "2023-11-20T14:29:43.124760Z",
     "shell.execute_reply.started": "2023-11-20T14:29:43.011115Z"
    }
   },
   "outputs": [],
   "source": [
    "df1.isna().sum()"
   ]
  },
  {
   "cell_type": "markdown",
   "metadata": {},
   "source": [
    "### 🍁Now we will Manipluate the `Date` Feature."
   ]
  },
  {
   "cell_type": "code",
   "execution_count": null,
   "metadata": {
    "execution": {
     "iopub.execute_input": "2023-11-20T14:29:43.131234Z",
     "iopub.status.busy": "2023-11-20T14:29:43.130397Z",
     "iopub.status.idle": "2023-11-20T14:29:43.220747Z",
     "shell.execute_reply": "2023-11-20T14:29:43.219064Z",
     "shell.execute_reply.started": "2023-11-20T14:29:43.131171Z"
    }
   },
   "outputs": [],
   "source": [
    "df1['Date']=pd.to_datetime(df1['Date'])"
   ]
  },
  {
   "cell_type": "code",
   "execution_count": null,
   "metadata": {
    "execution": {
     "iopub.execute_input": "2023-11-20T14:29:43.223726Z",
     "iopub.status.busy": "2023-11-20T14:29:43.223138Z",
     "iopub.status.idle": "2023-11-20T14:29:45.440983Z",
     "shell.execute_reply": "2023-11-20T14:29:45.439276Z",
     "shell.execute_reply.started": "2023-11-20T14:29:43.223681Z"
    }
   },
   "outputs": [],
   "source": [
    "df1['Month'] = df1['Date'].dt.month\n",
    "df1['Year'] = df1['Date'].dt.year\n",
    "df1['Month_Name'] = df1['Month'].apply(lambda x: calendar.month_name[x])\n",
    "df1['Week'] = df1['Date'].dt.isocalendar().week"
   ]
  },
  {
   "cell_type": "code",
   "execution_count": null,
   "metadata": {
    "execution": {
     "iopub.execute_input": "2023-11-20T14:29:45.445203Z",
     "iopub.status.busy": "2023-11-20T14:29:45.443085Z",
     "iopub.status.idle": "2023-11-20T14:29:45.490231Z",
     "shell.execute_reply": "2023-11-20T14:29:45.488360Z",
     "shell.execute_reply.started": "2023-11-20T14:29:45.445118Z"
    }
   },
   "outputs": [],
   "source": [
    "df1"
   ]
  },
  {
   "cell_type": "code",
   "execution_count": null,
   "metadata": {
    "execution": {
     "iopub.execute_input": "2023-11-20T14:29:45.494281Z",
     "iopub.status.busy": "2023-11-20T14:29:45.492425Z",
     "iopub.status.idle": "2023-11-20T14:29:45.503710Z",
     "shell.execute_reply": "2023-11-20T14:29:45.501413Z",
     "shell.execute_reply.started": "2023-11-20T14:29:45.494210Z"
    }
   },
   "outputs": [],
   "source": [
    "df1.rename(columns={'IsHoliday_y': 'IsHoliday'}, inplace=True)"
   ]
  },
  {
   "cell_type": "code",
   "execution_count": null,
   "metadata": {
    "execution": {
     "iopub.execute_input": "2023-11-20T14:29:45.506348Z",
     "iopub.status.busy": "2023-11-20T14:29:45.505784Z",
     "iopub.status.idle": "2023-11-20T14:29:45.550090Z",
     "shell.execute_reply": "2023-11-20T14:29:45.548003Z",
     "shell.execute_reply.started": "2023-11-20T14:29:45.506306Z"
    }
   },
   "outputs": [],
   "source": [
    "df1"
   ]
  },
  {
   "cell_type": "code",
   "execution_count": null,
   "metadata": {
    "execution": {
     "iopub.execute_input": "2023-11-20T14:29:45.552769Z",
     "iopub.status.busy": "2023-11-20T14:29:45.552169Z",
     "iopub.status.idle": "2023-11-20T14:29:45.567830Z",
     "shell.execute_reply": "2023-11-20T14:29:45.566269Z",
     "shell.execute_reply.started": "2023-11-20T14:29:45.552710Z"
    }
   },
   "outputs": [],
   "source": [
    "df1.columns"
   ]
  },
  {
   "cell_type": "code",
   "execution_count": null,
   "metadata": {
    "execution": {
     "iopub.execute_input": "2023-11-20T14:29:45.570508Z",
     "iopub.status.busy": "2023-11-20T14:29:45.570015Z",
     "iopub.status.idle": "2023-11-20T14:29:45.611761Z",
     "shell.execute_reply": "2023-11-20T14:29:45.610762Z",
     "shell.execute_reply.started": "2023-11-20T14:29:45.570463Z"
    }
   },
   "outputs": [],
   "source": [
    "df1=df1[['Store', 'Dept', 'Type', 'Date', 'Week', 'Month', 'Year',\n",
    "       'Month_Name', 'IsHoliday', 'Temperature', 'Fuel_Price', 'Unemployment',\n",
    "       'Size', 'CPI', 'Weekly_Sales']]"
   ]
  },
  {
   "cell_type": "code",
   "execution_count": null,
   "metadata": {
    "execution": {
     "iopub.execute_input": "2023-11-20T14:29:45.620342Z",
     "iopub.status.busy": "2023-11-20T14:29:45.619032Z",
     "iopub.status.idle": "2023-11-20T14:29:45.661864Z",
     "shell.execute_reply": "2023-11-20T14:29:45.659990Z",
     "shell.execute_reply.started": "2023-11-20T14:29:45.620290Z"
    }
   },
   "outputs": [],
   "source": [
    "df1"
   ]
  },
  {
   "cell_type": "code",
   "execution_count": null,
   "metadata": {
    "execution": {
     "iopub.execute_input": "2023-11-20T14:29:45.664472Z",
     "iopub.status.busy": "2023-11-20T14:29:45.663881Z",
     "iopub.status.idle": "2023-11-20T14:29:45.792306Z",
     "shell.execute_reply": "2023-11-20T14:29:45.790879Z",
     "shell.execute_reply.started": "2023-11-20T14:29:45.664417Z"
    }
   },
   "outputs": [],
   "source": [
    "df1.info()"
   ]
  },
  {
   "cell_type": "code",
   "execution_count": null,
   "metadata": {
    "execution": {
     "iopub.execute_input": "2023-11-20T14:29:45.796405Z",
     "iopub.status.busy": "2023-11-20T14:29:45.794372Z",
     "iopub.status.idle": "2023-11-20T14:29:51.379962Z",
     "shell.execute_reply": "2023-11-20T14:29:51.377557Z",
     "shell.execute_reply.started": "2023-11-20T14:29:45.796130Z"
    }
   },
   "outputs": [],
   "source": [
    "df1.to_csv('walmart.csv', index=False)"
   ]
  },
  {
   "cell_type": "markdown",
   "metadata": {},
   "source": [
    "---\n",
    "## 🍀Data Analysis"
   ]
  },
  {
   "cell_type": "markdown",
   "metadata": {},
   "source": [
    "### 🍁Holidays\n",
    "- Here, we will analyze the week days that the Holidays fall on each year. This is relevant to know how many pre-holiday days are inside each Week marked as `True` inside `IsHoliday` field.\n",
    "- If, for a certain Week, there are more pre-holiday days in one Year than another, then it is very possible that the Year with more pre-holiday days will have greater Sales for the same Week. So, the model will not take this consideration and we might need to adjust the predicted values at the end.\n",
    "- Another thing to take into account is that Holiday Weeks but with few or no pre-holiday days might have lower Sales than the Week before.\n",
    "- We can use SQL, putting the week days for each Holiday in every year. Doing some research, the Super Bowl, Labor Day and Thanksgiving fall on the same day. In the other hand, Christmas is always on December 25th, so the week day can change.hange.hange."
   ]
  },
  {
   "cell_type": "code",
   "execution_count": null,
   "metadata": {
    "execution": {
     "iopub.execute_input": "2023-11-20T14:29:51.383011Z",
     "iopub.status.busy": "2023-11-20T14:29:51.382448Z",
     "iopub.status.idle": "2023-11-20T14:29:51.398482Z",
     "shell.execute_reply": "2023-11-20T14:29:51.395973Z",
     "shell.execute_reply.started": "2023-11-20T14:29:51.382965Z"
    }
   },
   "outputs": [],
   "source": [
    "df1['Week'].unique()"
   ]
  },
  {
   "cell_type": "code",
   "execution_count": null,
   "metadata": {
    "execution": {
     "iopub.execute_input": "2023-11-20T14:29:51.401213Z",
     "iopub.status.busy": "2023-11-20T14:29:51.400575Z",
     "iopub.status.idle": "2023-11-20T14:29:51.416374Z",
     "shell.execute_reply": "2023-11-20T14:29:51.414286Z",
     "shell.execute_reply.started": "2023-11-20T14:29:51.401156Z"
    },
    "scrolled": true
   },
   "outputs": [],
   "source": [
    "'''df1=df1\n",
    "query=\"\"\"\n",
    "SELECT\n",
    "    T.*,\n",
    "    CASE\n",
    "        WHEN ROW_NUMBER() OVER(PARTITION BY Year ORDER BY Week) = 1 THEN 'Super Bowl'\n",
    "        WHEN ROW_NUMBER() OVER(PARTITION BY Year ORDER BY Week) = 2 THEN 'Labor Day'\n",
    "        WHEN ROW_NUMBER() OVER(PARTITION BY Year ORDER BY Week) = 3 THEN 'Thanksgiving'\n",
    "        WHEN ROW_NUMBER() OVER(PARTITION BY Year ORDER BY Week) = 4 THEN 'Christmas'\n",
    "    END AS Holiday,\n",
    "    CASE\n",
    "        WHEN ROW_NUMBER() OVER(PARTITION BY Year ORDER BY Week) = 1 THEN 'Sunday'\n",
    "        WHEN ROW_NUMBER() OVER(PARTITION BY Year ORDER BY Week) = 2 THEN 'Monday'\n",
    "        WHEN ROW_NUMBER() OVER(PARTITION BY Year ORDER BY Week) = 3 THEN 'Thursday'\n",
    "        WHEN ROW_NUMBER() OVER(PARTITION BY Year ORDER BY Week) = 4 AND Year = 2010 THEN 'Saturday'\n",
    "        WHEN ROW_NUMBER() OVER(PARTITION BY Year ORDER BY Week) = 4 AND Year = 2011 THEN 'Sunday'\n",
    "        WHEN ROW_NUMBER() OVER(PARTITION BY Year ORDER BY Week) = 4 AND Year = 2012 THEN 'Tuesday'\n",
    "    END AS Day\n",
    "FROM (\n",
    "    SELECT DISTINCT\n",
    "        Year,\n",
    "        Week\n",
    "    FROM df1\n",
    "    WHERE IsHoliday = True\n",
    ") AS T\n",
    "\"\"\"\n",
    "\n",
    "result_df=sqldf(query, locals())\n",
    "result_df\n",
    "'''"
   ]
  },
  {
   "cell_type": "code",
   "execution_count": null,
   "metadata": {
    "execution": {
     "iopub.execute_input": "2023-11-20T14:29:51.419461Z",
     "iopub.status.busy": "2023-11-20T14:29:51.418277Z",
     "iopub.status.idle": "2023-11-20T14:29:51.446291Z",
     "shell.execute_reply": "2023-11-20T14:29:51.444743Z",
     "shell.execute_reply.started": "2023-11-20T14:29:51.419401Z"
    }
   },
   "outputs": [],
   "source": [
    "import holidays\n",
    "import pandas as pd\n",
    "\n",
    "def find_holiday_weeks(years, holiday_names):\n",
    "    for year in years:\n",
    "        us_holidays = holidays.US(years=year)\n",
    "        print(f\"Holidays in {year}: {list(us_holidays.values())}\")\n",
    "        print(\" \")\n",
    "\n",
    "years = [2010, 2011, 2012]\n",
    "holiday_names = ['Super Bowl', 'Labor Day', 'Thanksgiving', 'Christmas']\n",
    "\n",
    "find_holiday_weeks(years, holiday_names)\n"
   ]
  },
  {
   "cell_type": "code",
   "execution_count": null,
   "metadata": {
    "execution": {
     "iopub.execute_input": "2023-11-20T14:29:51.450574Z",
     "iopub.status.busy": "2023-11-20T14:29:51.448259Z",
     "iopub.status.idle": "2023-11-20T14:29:51.488007Z",
     "shell.execute_reply": "2023-11-20T14:29:51.486431Z",
     "shell.execute_reply.started": "2023-11-20T14:29:51.450500Z"
    }
   },
   "outputs": [],
   "source": [
    "import holidays\n",
    "import pandas as pd\n",
    "\n",
    "def find_holiday_weeks(years, holiday_names):\n",
    "    holiday_weeks = []\n",
    "\n",
    "    for year in years:\n",
    "        us_holidays = holidays.US(years=year)\n",
    "        for date, name in us_holidays.items():\n",
    "            if name in holiday_names:\n",
    "                week_number = pd.to_datetime(date).isocalendar()[1]\n",
    "                holiday_weeks.append({'Year': year, 'Holiday': name, 'Week': week_number})\n",
    "\n",
    "    return pd.DataFrame(holiday_weeks)\n",
    "\n",
    "years = [2010, 2011, 2012]\n",
    "holiday_names = ['Super Bowl', 'Labor Day', 'Thanksgiving', 'Christmas Day']\n",
    "\n",
    "holiday_weeks_df = find_holiday_weeks(years, holiday_names)\n",
    "holiday_weeks_df\n"
   ]
  },
  {
   "cell_type": "code",
   "execution_count": null,
   "metadata": {
    "execution": {
     "iopub.execute_input": "2023-11-20T14:29:51.490649Z",
     "iopub.status.busy": "2023-11-20T14:29:51.490048Z",
     "iopub.status.idle": "2023-11-20T14:29:51.500588Z",
     "shell.execute_reply": "2023-11-20T14:29:51.498743Z",
     "shell.execute_reply.started": "2023-11-20T14:29:51.490570Z"
    }
   },
   "outputs": [],
   "source": [
    "import datetime\n",
    "\n",
    "# Get the date of Super Bowl in 2010\n",
    "super_bowl_date_2010 = datetime.date(2011, 4, 8)\n",
    "\n",
    "# Calculate the week number using ISO week date\n",
    "super_bowl_week_2010 = super_bowl_date_2010.isocalendar()[1]\n",
    "print(\"Super Bowl in 2010 was in week:\", super_bowl_week_2010)\n"
   ]
  },
  {
   "cell_type": "markdown",
   "metadata": {},
   "source": [
    "#### 🌟Some interesting notes about the result:\n",
    "- All Holidays fall on the same week\n",
    "- Test Data doesn't have Labor Day, so this Holiday is not very relevant.\n",
    "- Christmas has 0 pre-holiday days in 2010, 1 in 2011 and 3 in 2012. The model will not consider more Sales in 2012 for Test Data, so we are going to adjust it at the end, with a formula and an explanation."
   ]
  },
  {
   "cell_type": "markdown",
   "metadata": {},
   "source": [
    "#### 🌟Note:\n",
    "As we can see, there is one important Holiday not included in `IsHoliday`. It's the `Easter Day`. It is always in a `Sunday`, but can fall on different weeks.\n",
    "- In 2010 is in Week 13\n",
    "- In 2011, Week 16\n",
    "- Week 14 in 2012"
   ]
  },
  {
   "cell_type": "code",
   "execution_count": null,
   "metadata": {
    "execution": {
     "iopub.execute_input": "2023-11-20T14:29:51.504609Z",
     "iopub.status.busy": "2023-11-20T14:29:51.503861Z",
     "iopub.status.idle": "2023-11-20T14:29:51.530988Z",
     "shell.execute_reply": "2023-11-20T14:29:51.529722Z",
     "shell.execute_reply.started": "2023-11-20T14:29:51.504543Z"
    }
   },
   "outputs": [],
   "source": [
    "df1.loc[(df1['Year']==2010) & (df1['Week']==13), \"IsHoliday\"].reset_index()"
   ]
  },
  {
   "cell_type": "code",
   "execution_count": null,
   "metadata": {
    "execution": {
     "iopub.execute_input": "2023-11-20T14:29:51.533527Z",
     "iopub.status.busy": "2023-11-20T14:29:51.532991Z",
     "iopub.status.idle": "2023-11-20T14:29:51.558056Z",
     "shell.execute_reply": "2023-11-20T14:29:51.556887Z",
     "shell.execute_reply.started": "2023-11-20T14:29:51.533482Z"
    }
   },
   "outputs": [],
   "source": [
    "df1.loc[(df1['Year']==2011) & (df1['Week']==16), \"IsHoliday\"].reset_index()"
   ]
  },
  {
   "cell_type": "code",
   "execution_count": null,
   "metadata": {
    "execution": {
     "iopub.execute_input": "2023-11-20T14:29:51.561052Z",
     "iopub.status.busy": "2023-11-20T14:29:51.559866Z",
     "iopub.status.idle": "2023-11-20T14:29:51.584616Z",
     "shell.execute_reply": "2023-11-20T14:29:51.582977Z",
     "shell.execute_reply.started": "2023-11-20T14:29:51.560998Z"
    }
   },
   "outputs": [],
   "source": [
    "df1.loc[(df1['Year']==2012) & (df1['Week']==14), \"IsHoliday\"].reset_index()"
   ]
  },
  {
   "cell_type": "code",
   "execution_count": null,
   "metadata": {
    "execution": {
     "iopub.execute_input": "2023-11-20T14:29:51.586788Z",
     "iopub.status.busy": "2023-11-20T14:29:51.586305Z",
     "iopub.status.idle": "2023-11-20T14:29:51.612174Z",
     "shell.execute_reply": "2023-11-20T14:29:51.610843Z",
     "shell.execute_reply.started": "2023-11-20T14:29:51.586746Z"
    }
   },
   "outputs": [],
   "source": [
    "df1.loc[(df1['Year']==2010) & (df1['Week']==13), \"IsHoliday\"]=True\n",
    "df1.loc[(df1['Year']==2011) & (df1['Week']==16), \"IsHoliday\"]=True\n",
    "df1.loc[(df1['Year']==2012) & (df1['Week']==14), \"IsHoliday\"]=True"
   ]
  },
  {
   "cell_type": "markdown",
   "metadata": {},
   "source": [
    "### 🍁Sales"
   ]
  },
  {
   "cell_type": "code",
   "execution_count": null,
   "metadata": {
    "execution": {
     "iopub.execute_input": "2023-11-20T14:29:51.614814Z",
     "iopub.status.busy": "2023-11-20T14:29:51.613975Z",
     "iopub.status.idle": "2023-11-20T14:29:51.719090Z",
     "shell.execute_reply": "2023-11-20T14:29:51.718004Z",
     "shell.execute_reply.started": "2023-11-20T14:29:51.614771Z"
    }
   },
   "outputs": [],
   "source": [
    "weekly_sales = df1.groupby('Week')['Weekly_Sales'].sum().reset_index()\n",
    "\n",
    "fig = px.line(weekly_sales, x='Week', y='Weekly_Sales', title='Total Weekly Sales', markers=True)\n",
    "fig.update_xaxes(title='Week')\n",
    "fig.update_yaxes(title='Total Sales')\n",
    "fig.update_layout(height=400, width=1110)\n",
    "fig.show()"
   ]
  },
  {
   "cell_type": "code",
   "execution_count": null,
   "metadata": {
    "execution": {
     "iopub.execute_input": "2023-11-20T14:29:51.721472Z",
     "iopub.status.busy": "2023-11-20T14:29:51.720793Z",
     "iopub.status.idle": "2023-11-20T14:29:51.947185Z",
     "shell.execute_reply": "2023-11-20T14:29:51.945338Z",
     "shell.execute_reply.started": "2023-11-20T14:29:51.721430Z"
    }
   },
   "outputs": [],
   "source": [
    "years_to_plot = [2010, 2011, 2012]\n",
    "\n",
    "df_specific_years = df1[df1['Year'].isin(years_to_plot)]\n",
    "\n",
    "weekly_sales_specific_years = df_specific_years.groupby(['Year', 'Week'])['Weekly_Sales'].sum().reset_index()\n",
    "\n",
    "fig = px.line(weekly_sales_specific_years, x='Week', y='Weekly_Sales', color='Year',\n",
    "              title='Total Weekly Sales for Specific Years', markers=True)\n",
    "fig.update_xaxes(title='Week')\n",
    "fig.update_yaxes(title='Total Sales')\n",
    "fig.add_annotation(text=\"Thanksgiving\", x=47, y=70000000, showarrow=False)\n",
    "fig.add_annotation(text=\"Christmas\", x=51, y=84000000, showarrow=False)\n",
    "fig.update_layout(height=400, width=1110)\n",
    "fig.show()"
   ]
  },
  {
   "cell_type": "markdown",
   "metadata": {},
   "source": [
    "#### 🍂Insight: There's a clear pattern about the sales across the years, by Thanksgiving and Christmas the sales rise up by a huge margin.\n"
   ]
  },
  {
   "cell_type": "code",
   "execution_count": null,
   "metadata": {
    "execution": {
     "iopub.execute_input": "2023-11-20T14:29:51.951424Z",
     "iopub.status.busy": "2023-11-20T14:29:51.950158Z",
     "iopub.status.idle": "2023-11-20T14:29:52.066017Z",
     "shell.execute_reply": "2023-11-20T14:29:52.064786Z",
     "shell.execute_reply.started": "2023-11-20T14:29:51.951350Z"
    }
   },
   "outputs": [],
   "source": [
    "monthly_sales = df1.groupby(['Year', 'Month'])['Weekly_Sales'].sum().reset_index()\n",
    "years_to_plot = [2010, 2011, 2012]\n",
    "\n",
    "fig = px.line()\n",
    "for year in years_to_plot:\n",
    "    year_data = monthly_sales[monthly_sales['Year'] == year]\n",
    "    fig.add_scatter(x=year_data['Month'], y=year_data['Weekly_Sales'], mode='lines+markers', name=str(year))\n",
    "\n",
    "fig.update_layout(title='Monthly Sales for Specific Years', xaxis_title='Month', yaxis_title='Total Sales')\n",
    "fig.show()"
   ]
  },
  {
   "cell_type": "code",
   "execution_count": null,
   "metadata": {
    "execution": {
     "iopub.execute_input": "2023-11-20T14:29:52.069583Z",
     "iopub.status.busy": "2023-11-20T14:29:52.067876Z",
     "iopub.status.idle": "2023-11-20T14:29:52.113097Z",
     "shell.execute_reply": "2023-11-20T14:29:52.111262Z",
     "shell.execute_reply.started": "2023-11-20T14:29:52.069512Z"
    }
   },
   "outputs": [],
   "source": [
    "df1"
   ]
  },
  {
   "cell_type": "code",
   "execution_count": null,
   "metadata": {
    "execution": {
     "iopub.execute_input": "2023-11-20T14:29:52.116379Z",
     "iopub.status.busy": "2023-11-20T14:29:52.115364Z",
     "iopub.status.idle": "2023-11-20T14:29:52.160473Z",
     "shell.execute_reply": "2023-11-20T14:29:52.158304Z",
     "shell.execute_reply.started": "2023-11-20T14:29:52.116318Z"
    }
   },
   "outputs": [],
   "source": [
    "store_sales = df1.groupby('Store')['Weekly_Sales'].sum().reset_index()\n",
    "top_ten_stores = store_sales.nlargest(10, 'Weekly_Sales')\n",
    "df_top_ten_stores = df1[df1['Store'].isin(top_ten_stores['Store'])]"
   ]
  },
  {
   "cell_type": "code",
   "execution_count": null,
   "metadata": {
    "execution": {
     "iopub.execute_input": "2023-11-20T14:29:52.166436Z",
     "iopub.status.busy": "2023-11-20T14:29:52.163596Z",
     "iopub.status.idle": "2023-11-20T14:29:52.185510Z",
     "shell.execute_reply": "2023-11-20T14:29:52.183110Z",
     "shell.execute_reply.started": "2023-11-20T14:29:52.166363Z"
    }
   },
   "outputs": [],
   "source": [
    "top_ten_stores.sort_values(by='Store')"
   ]
  },
  {
   "cell_type": "code",
   "execution_count": null,
   "metadata": {
    "execution": {
     "iopub.execute_input": "2023-11-20T14:31:51.096567Z",
     "iopub.status.busy": "2023-11-20T14:31:51.096112Z",
     "iopub.status.idle": "2023-11-20T14:31:53.036454Z",
     "shell.execute_reply": "2023-11-20T14:31:53.034873Z",
     "shell.execute_reply.started": "2023-11-20T14:31:51.096531Z"
    }
   },
   "outputs": [],
   "source": [
    "plt.figure(figsize=(12, 6))\n",
    "barplot = sns.barplot(data=df_top_ten_stores, x='Store', y='Weekly_Sales', palette='viridis')\n",
    "\n",
    "bar_width = 0.5  \n",
    "for i, bar in enumerate(barplot.patches):\n",
    "    new_x = bar.get_x() + (bar.get_width() / 2) - (bar_width / 2)\n",
    "    bar.set_x(new_x)\n",
    "    bar.set_width(bar_width)\n",
    "\n",
    "plt.title('Total Weekly Sales Comparison for Top Ten Stores')\n",
    "plt.xlabel('Store')\n",
    "plt.ylabel('Total Sales')\n",
    "plt.xticks(rotation=0)\n",
    "plt.tight_layout()\n",
    "plt.show()"
   ]
  },
  {
   "cell_type": "code",
   "execution_count": null,
   "metadata": {
    "execution": {
     "iopub.execute_input": "2023-11-20T14:32:30.659568Z",
     "iopub.status.busy": "2023-11-20T14:32:30.659080Z",
     "iopub.status.idle": "2023-11-20T14:32:30.706129Z",
     "shell.execute_reply": "2023-11-20T14:32:30.704365Z",
     "shell.execute_reply.started": "2023-11-20T14:32:30.659531Z"
    }
   },
   "outputs": [],
   "source": [
    "sales_2010 = df1[df1['Year'] == 2010]\n",
    "store_sales_2010 = sales_2010.groupby('Store')['Weekly_Sales'].sum().reset_index()\n",
    "\n",
    "top_stores_2010 = store_sales_2010.nlargest(10, 'Weekly_Sales')\n",
    "top_stores_2010.sort_values(by='Store')"
   ]
  },
  {
   "cell_type": "code",
   "execution_count": null,
   "metadata": {
    "execution": {
     "iopub.execute_input": "2023-11-20T14:32:31.515324Z",
     "iopub.status.busy": "2023-11-20T14:32:31.513831Z",
     "iopub.status.idle": "2023-11-20T14:32:31.577589Z",
     "shell.execute_reply": "2023-11-20T14:32:31.575664Z",
     "shell.execute_reply.started": "2023-11-20T14:32:31.515268Z"
    }
   },
   "outputs": [],
   "source": [
    "sales_2011 = df1[df1['Year'] == 2011]\n",
    "store_sales_2011 = sales_2011.groupby('Store')['Weekly_Sales'].sum().reset_index()\n",
    "\n",
    "top_stores_2011 = store_sales_2011.nlargest(10, 'Weekly_Sales')\n",
    "top_stores_2011.sort_values(by='Store')"
   ]
  },
  {
   "cell_type": "code",
   "execution_count": null,
   "metadata": {
    "execution": {
     "iopub.execute_input": "2023-11-20T14:32:32.328608Z",
     "iopub.status.busy": "2023-11-20T14:32:32.328116Z",
     "iopub.status.idle": "2023-11-20T14:32:32.374271Z",
     "shell.execute_reply": "2023-11-20T14:32:32.372856Z",
     "shell.execute_reply.started": "2023-11-20T14:32:32.328571Z"
    }
   },
   "outputs": [],
   "source": [
    "sales_2012 = df1[df1['Year'] == 2012]\n",
    "store_sales_2012 = sales_2012.groupby('Store')['Weekly_Sales'].sum().reset_index()\n",
    "\n",
    "top_stores_2012 = store_sales_2012.nlargest(10, 'Weekly_Sales')\n",
    "top_stores_2012.sort_values(by='Store')"
   ]
  },
  {
   "cell_type": "code",
   "execution_count": null,
   "metadata": {
    "execution": {
     "iopub.execute_input": "2023-11-20T14:32:33.239301Z",
     "iopub.status.busy": "2023-11-20T14:32:33.238753Z",
     "iopub.status.idle": "2023-11-20T14:32:33.307907Z",
     "shell.execute_reply": "2023-11-20T14:32:33.306024Z",
     "shell.execute_reply.started": "2023-11-20T14:32:33.239259Z"
    }
   },
   "outputs": [],
   "source": [
    "monthly_store_sales = df1.groupby(['Store', 'Year'])['Weekly_Sales'].sum().reset_index()\n",
    "monthly_store_sales"
   ]
  },
  {
   "cell_type": "code",
   "execution_count": null,
   "metadata": {
    "execution": {
     "iopub.execute_input": "2023-11-20T14:32:35.362058Z",
     "iopub.status.busy": "2023-11-20T14:32:35.361298Z",
     "iopub.status.idle": "2023-11-20T14:32:36.618025Z",
     "shell.execute_reply": "2023-11-20T14:32:36.616486Z",
     "shell.execute_reply.started": "2023-11-20T14:32:35.362003Z"
    }
   },
   "outputs": [],
   "source": [
    "weekly_store_sales = df1.groupby(['Store', 'Year'])['Weekly_Sales'].sum().reset_index()\n",
    "store_yearly_sales = weekly_store_sales.groupby(['Store', 'Year'])['Weekly_Sales'].sum().reset_index()\n",
    "top_stores_by_year = store_yearly_sales.groupby('Year').apply(lambda x: x.nlargest(10, 'Weekly_Sales')).reset_index(drop=True)\n",
    "\n",
    "\n",
    "palette = ['viridis', 'magma', 'plasma']\n",
    "\n",
    "plt.figure(figsize=(17, 6))\n",
    "for idx, year in enumerate(top_stores_by_year['Year'].unique()):\n",
    "    top_stores_year = top_stores_by_year[top_stores_by_year['Year'] == year]\n",
    "    ax = plt.subplot(1, len(top_stores_by_year['Year'].unique()), idx + 1)\n",
    "    sns.barplot(data=top_stores_year, x='Store', y='Weekly_Sales', palette=palette[idx])\n",
    "    plt.title(f'Top 10 Stores for {year}')\n",
    "    plt.xlabel('Store')\n",
    "    plt.ylabel('Total Sales')\n",
    "    plt.xticks(rotation=0)\n",
    "    plt.tight_layout()\n",
    "\n",
    "plt.show()"
   ]
  },
  {
   "cell_type": "markdown",
   "metadata": {},
   "source": [
    "#### 🍂Insights: The Store 19 was present in the Top 10 Stores during the year 2010, but it was replaced by the Store 39 for the years 2011 & 2012"
   ]
  },
  {
   "cell_type": "markdown",
   "metadata": {},
   "source": [
    "### 🍁Departments"
   ]
  },
  {
   "cell_type": "code",
   "execution_count": null,
   "metadata": {
    "execution": {
     "iopub.execute_input": "2023-11-19T07:34:32.785970Z",
     "iopub.status.busy": "2023-11-19T07:34:32.784641Z",
     "iopub.status.idle": "2023-11-19T07:34:32.798115Z",
     "shell.execute_reply": "2023-11-19T07:34:32.797048Z",
     "shell.execute_reply.started": "2023-11-19T07:34:32.785927Z"
    }
   },
   "outputs": [],
   "source": [
    "df1['Dept'].unique()"
   ]
  },
  {
   "cell_type": "code",
   "execution_count": null,
   "metadata": {
    "execution": {
     "iopub.execute_input": "2023-11-19T07:34:32.800308Z",
     "iopub.status.busy": "2023-11-19T07:34:32.799669Z",
     "iopub.status.idle": "2023-11-19T07:34:32.809772Z",
     "shell.execute_reply": "2023-11-19T07:34:32.808690Z",
     "shell.execute_reply.started": "2023-11-19T07:34:32.800265Z"
    }
   },
   "outputs": [],
   "source": [
    "df1['Dept'].unique().size"
   ]
  },
  {
   "cell_type": "markdown",
   "metadata": {},
   "source": [
    "15, 50, 53, 57, 61-64, 66, 68, 69, 70, 73, 75, 76, 78, 84, 86, 88, 89"
   ]
  },
  {
   "cell_type": "code",
   "execution_count": null,
   "metadata": {
    "execution": {
     "iopub.execute_input": "2023-11-19T07:34:32.812231Z",
     "iopub.status.busy": "2023-11-19T07:34:32.811416Z",
     "iopub.status.idle": "2023-11-19T07:34:32.833380Z",
     "shell.execute_reply": "2023-11-19T07:34:32.832017Z",
     "shell.execute_reply.started": "2023-11-19T07:34:32.812191Z"
    }
   },
   "outputs": [],
   "source": [
    "df['Dept'].value_counts().reset_index()"
   ]
  },
  {
   "cell_type": "code",
   "execution_count": null,
   "metadata": {
    "execution": {
     "iopub.execute_input": "2023-11-19T07:34:32.835659Z",
     "iopub.status.busy": "2023-11-19T07:34:32.834732Z",
     "iopub.status.idle": "2023-11-19T07:34:32.938748Z",
     "shell.execute_reply": "2023-11-19T07:34:32.937567Z",
     "shell.execute_reply.started": "2023-11-19T07:34:32.835625Z"
    }
   },
   "outputs": [],
   "source": [
    "df1['Weekly_Sales'] = pd.to_numeric(df1['Weekly_Sales'], errors='coerce')\n",
    "depts = df1.groupby('Dept')['Weekly_Sales'].mean().sort_values(ascending=False)\n",
    "\n",
    "bar = px.bar(depts, x=depts.index, y=depts.values, title='Department and Sales', color=depts.values)\n",
    "bar.update_layout(barmode='group', xaxis={'categoryorder': 'total descending'})\n",
    "bar.update_yaxes(title='Weekly Sales')\n",
    "bar.update_coloraxes(colorbar_title='Weekly Sales')\n",
    "bar.show()"
   ]
  },
  {
   "cell_type": "markdown",
   "metadata": {},
   "source": [
    "#### 🍂Insights: There are some departments that contribute more in the weekly sales, the departments 38, 92, 95 are the highest contributors."
   ]
  },
  {
   "cell_type": "code",
   "execution_count": null,
   "metadata": {
    "execution": {
     "iopub.execute_input": "2023-11-19T07:34:32.940631Z",
     "iopub.status.busy": "2023-11-19T07:34:32.940286Z",
     "iopub.status.idle": "2023-11-19T07:34:33.109823Z",
     "shell.execute_reply": "2023-11-19T07:34:33.109001Z",
     "shell.execute_reply.started": "2023-11-19T07:34:32.940599Z"
    }
   },
   "outputs": [],
   "source": [
    "year = 2010\n",
    "dept_sales = df1.groupby(['Store', 'Year', 'Dept'])['Weekly_Sales'].sum().reset_index()\n",
    "top_10_stores_year = top_stores_by_year[top_stores_by_year['Year'] == year]['Store'].tolist()\n",
    "dept_sales_top_stores_year = dept_sales[(dept_sales['Year'] == year) & (dept_sales['Store'].isin(top_10_stores_year))]\n",
    "\n",
    "rows, cols = 5, 2\n",
    "\n",
    "fig = make_subplots(rows=rows, cols=cols, subplot_titles=top_10_stores_year, shared_xaxes=True, shared_yaxes=True)\n",
    "row, col = 1, 1\n",
    "for store in top_10_stores_year:\n",
    "    dept_sales_store_year = dept_sales_top_stores_year[dept_sales_top_stores_year['Store'] == store]\n",
    "    fig.add_trace(go.Bar(x=dept_sales_store_year['Dept'], y=dept_sales_store_year['Weekly_Sales'], name=store), row=row, col=col)\n",
    "    col += 1\n",
    "    if col > cols:\n",
    "        col = 1\n",
    "        row += 1\n",
    "\n",
    "fig.update_layout(title=f'Departmental Sales for Top 10 Stores in {year}', showlegend=False,\n",
    "                  height=1000, width=1110, title_font_size=24, margin=dict(l=40, r=40, t=80, b=80))\n",
    "\n",
    "fig.update_xaxes(title_text='Department', row=rows, col=1)\n",
    "fig.update_xaxes(title_text='Department', row=rows, col=2)\n",
    "fig.update_yaxes(title_text='Weekly Sales', row=(rows // 2), col=1)\n",
    "fig.show()"
   ]
  },
  {
   "cell_type": "code",
   "execution_count": null,
   "metadata": {
    "execution": {
     "iopub.execute_input": "2023-11-19T07:34:33.111397Z",
     "iopub.status.busy": "2023-11-19T07:34:33.111089Z",
     "iopub.status.idle": "2023-11-19T07:34:33.260042Z",
     "shell.execute_reply": "2023-11-19T07:34:33.258960Z",
     "shell.execute_reply.started": "2023-11-19T07:34:33.111371Z"
    }
   },
   "outputs": [],
   "source": [
    "year = 2011\n",
    "dept_sales = df1.groupby(['Store', 'Year', 'Dept'])['Weekly_Sales'].sum().reset_index()\n",
    "top_10_stores_year = top_stores_by_year[top_stores_by_year['Year'] == year]['Store'].tolist()\n",
    "dept_sales_top_stores_year = dept_sales[(dept_sales['Year'] == year) & (dept_sales['Store'].isin(top_10_stores_year))]\n",
    "\n",
    "rows, cols = 5, 2\n",
    "\n",
    "fig = make_subplots(rows=rows, cols=cols, subplot_titles=top_10_stores_year, shared_xaxes=True, shared_yaxes=True)\n",
    "row, col = 1, 1\n",
    "for store in top_10_stores_year:\n",
    "    dept_sales_store_year = dept_sales_top_stores_year[dept_sales_top_stores_year['Store'] == store]\n",
    "    fig.add_trace(go.Bar(x=dept_sales_store_year['Dept'], y=dept_sales_store_year['Weekly_Sales'], name=store), row=row, col=col)\n",
    "    col += 1\n",
    "    if col > cols:\n",
    "        col = 1\n",
    "        row += 1\n",
    "\n",
    "fig.update_layout(title=f'Departmental Sales for Top 10 Stores in {year}', showlegend=False,\n",
    "                  height=1000, width=1110, title_font_size=24, margin=dict(l=40, r=40, t=80, b=80))\n",
    "\n",
    "fig.update_xaxes(title_text='Department', row=rows, col=1)\n",
    "fig.update_xaxes(title_text='Department', row=rows, col=2)\n",
    "fig.update_yaxes(title_text='Weekly Sales', row=(rows // 2), col=1)\n",
    "fig.show()"
   ]
  },
  {
   "cell_type": "code",
   "execution_count": null,
   "metadata": {
    "execution": {
     "iopub.execute_input": "2023-11-19T07:34:33.261953Z",
     "iopub.status.busy": "2023-11-19T07:34:33.261635Z",
     "iopub.status.idle": "2023-11-19T07:34:33.423582Z",
     "shell.execute_reply": "2023-11-19T07:34:33.422716Z",
     "shell.execute_reply.started": "2023-11-19T07:34:33.261907Z"
    }
   },
   "outputs": [],
   "source": [
    "year = 2012\n",
    "dept_sales = df1.groupby(['Store', 'Year', 'Dept'])['Weekly_Sales'].sum().reset_index()\n",
    "top_10_stores_year = top_stores_by_year[top_stores_by_year['Year'] == year]['Store'].tolist()\n",
    "dept_sales_top_stores_year = dept_sales[(dept_sales['Year'] == year) & (dept_sales['Store'].isin(top_10_stores_year))]\n",
    "\n",
    "rows, cols = 5, 2\n",
    "\n",
    "fig = make_subplots(rows=rows, cols=cols, subplot_titles=top_10_stores_year, shared_xaxes=True, shared_yaxes=True)\n",
    "row, col = 1, 1\n",
    "for store in top_10_stores_year:\n",
    "    dept_sales_store_year = dept_sales_top_stores_year[dept_sales_top_stores_year['Store'] == store]\n",
    "    fig.add_trace(go.Bar(x=dept_sales_store_year['Dept'], y=dept_sales_store_year['Weekly_Sales'], name=store), row=row, col=col)\n",
    "    col += 1\n",
    "    if col > cols:\n",
    "        col = 1\n",
    "        row += 1\n",
    "\n",
    "fig.update_layout(title=f'Departmental Sales for Top 10 Stores in {year}', showlegend=False,\n",
    "                  height=1000, width=1110, title_font_size=24, margin=dict(l=40, r=40, t=80, b=80))\n",
    "\n",
    "fig.update_xaxes(title_text='Department', row=rows, col=1)\n",
    "fig.update_xaxes(title_text='Department', row=rows, col=2)\n",
    "fig.update_yaxes(title_text='Weekly Sales', row=(rows // 2), col=1)\n",
    "fig.show()"
   ]
  },
  {
   "cell_type": "code",
   "execution_count": null,
   "metadata": {
    "execution": {
     "iopub.execute_input": "2023-11-19T07:34:33.425367Z",
     "iopub.status.busy": "2023-11-19T07:34:33.424644Z",
     "iopub.status.idle": "2023-11-19T07:34:33.525099Z",
     "shell.execute_reply": "2023-11-19T07:34:33.523938Z",
     "shell.execute_reply.started": "2023-11-19T07:34:33.425338Z"
    }
   },
   "outputs": [],
   "source": [
    "comparison_df = df1[(df1['Store'].isin([19, 39])) & (df1['Year'] == 2010)]\n",
    "dept_sales_comparison = comparison_df.groupby(['Store', 'Year', 'Dept'])['Weekly_Sales'].sum().reset_index()\n",
    "dept_sales_19_39 = dept_sales_comparison[(dept_sales_comparison['Store'].isin([19, 39]))]\n",
    "\n",
    "pivoted_df = dept_sales_19_39.pivot(index='Dept', columns='Store', values='Weekly_Sales').reset_index()\n",
    "fig = px.bar(pivoted_df, x='Dept', y=[19, 39], barmode='group',\n",
    "             labels={'Dept': 'Department', 'value': 'Weekly Sales', 'variable': 'Store'},\n",
    "             title='Department Sales Comparison for Stores 19 and 39 in 2010')\n",
    "fig.update_layout(xaxis_title='Department', yaxis_title='Weekly Sales', showlegend=True,\n",
    "                  width=1100, height=400)\n",
    "fig.show()"
   ]
  },
  {
   "cell_type": "code",
   "execution_count": null,
   "metadata": {
    "execution": {
     "iopub.execute_input": "2023-11-19T07:34:33.526920Z",
     "iopub.status.busy": "2023-11-19T07:34:33.526561Z",
     "iopub.status.idle": "2023-11-19T07:34:33.626505Z",
     "shell.execute_reply": "2023-11-19T07:34:33.625339Z",
     "shell.execute_reply.started": "2023-11-19T07:34:33.526890Z"
    }
   },
   "outputs": [],
   "source": [
    "comparison_df = df1[(df1['Store'].isin([19, 39])) & (df1['Year'] == 2011)]\n",
    "dept_sales_comparison = comparison_df.groupby(['Store', 'Year', 'Dept'])['Weekly_Sales'].sum().reset_index()\n",
    "dept_sales_19_39 = dept_sales_comparison[(dept_sales_comparison['Store'].isin([19, 39]))]\n",
    "\n",
    "pivoted_df = dept_sales_19_39.pivot(index='Dept', columns='Store', values='Weekly_Sales').reset_index()\n",
    "fig = px.bar(pivoted_df, x='Dept', y=[19, 39], barmode='group',\n",
    "             labels={'Dept': 'Department', 'value': 'Weekly Sales', 'variable': 'Store'},\n",
    "             title='Department Sales Comparison for Stores 19 and 39 in 2011')\n",
    "fig.update_layout(xaxis_title='Department', yaxis_title='Weekly Sales', showlegend=True,\n",
    "                  width=1100, height=400)\n",
    "fig.show()"
   ]
  },
  {
   "cell_type": "code",
   "execution_count": null,
   "metadata": {
    "execution": {
     "iopub.execute_input": "2023-11-19T07:34:33.628275Z",
     "iopub.status.busy": "2023-11-19T07:34:33.627910Z",
     "iopub.status.idle": "2023-11-19T07:34:33.722226Z",
     "shell.execute_reply": "2023-11-19T07:34:33.721084Z",
     "shell.execute_reply.started": "2023-11-19T07:34:33.628245Z"
    }
   },
   "outputs": [],
   "source": [
    "store_19_sales = df1[(df1['Store'] == 19) & (df1['Year'].isin([2010, 2011]))]\n",
    "store_19_weekly_sales = store_19_sales.groupby(['Year', 'Week'])['Weekly_Sales'].sum().reset_index()\n",
    "\n",
    "fig = px.line(store_19_weekly_sales, x='Week', y='Weekly_Sales', color='Year',\n",
    "              labels={'Week': 'Week', 'Weekly_Sales': 'Total Sales', 'Year': 'Year'},\n",
    "              title='Store 19 Sales Comparison for 2010 and 2011 by Week')\n",
    "fig.update_traces(mode='markers+lines')\n",
    "fig.add_annotation(text=\"Thanksgiving\", x=47, y=2200000, showarrow=False)\n",
    "fig.add_annotation(text=\"Christmas\", x=51, y=2900000, showarrow=False)\n",
    "fig.update_layout(xaxis_title='Week', yaxis_title='Total Sales', showlegend=True)\n",
    "fig.show()"
   ]
  },
  {
   "cell_type": "code",
   "execution_count": null,
   "metadata": {
    "execution": {
     "iopub.execute_input": "2023-11-19T07:34:33.724111Z",
     "iopub.status.busy": "2023-11-19T07:34:33.723765Z",
     "iopub.status.idle": "2023-11-19T07:34:33.813176Z",
     "shell.execute_reply": "2023-11-19T07:34:33.812050Z",
     "shell.execute_reply.started": "2023-11-19T07:34:33.724082Z"
    }
   },
   "outputs": [],
   "source": [
    "store_19_sales = df1[(df1['Store'] == 19) & (df1['Year'].isin([2010, 2011]))]\n",
    "store_19_monthly_sales = store_19_sales.groupby(['Year', 'Month'])['Weekly_Sales'].sum().reset_index()\n",
    "\n",
    "fig = px.line(store_19_monthly_sales, x='Month', y='Weekly_Sales', color='Year',\n",
    "              labels={'Month': 'Month', 'Weekly_Sales': 'Total Sales', 'Year': 'Year'},\n",
    "              title='Store 19 Sales Comparison for 2010 and 2011 by Month')\n",
    "fig.update_traces(mode='markers+lines')\n",
    "fig.update_layout(xaxis_title='Month', yaxis_title='Total Sales', showlegend=True)\n",
    "fig.show()"
   ]
  },
  {
   "cell_type": "code",
   "execution_count": null,
   "metadata": {
    "execution": {
     "iopub.execute_input": "2023-11-19T07:34:33.814792Z",
     "iopub.status.busy": "2023-11-19T07:34:33.814486Z",
     "iopub.status.idle": "2023-11-19T07:34:33.913806Z",
     "shell.execute_reply": "2023-11-19T07:34:33.912716Z",
     "shell.execute_reply.started": "2023-11-19T07:34:33.814766Z"
    }
   },
   "outputs": [],
   "source": [
    "store_19_sales = df1[(df1['Store'] == 39) & (df1['Year'].isin([2010, 2011]))]\n",
    "store_19_weekly_sales = store_19_sales.groupby(['Year', 'Week'])['Weekly_Sales'].sum().reset_index()\n",
    "\n",
    "fig = px.line(store_19_weekly_sales, x='Week', y='Weekly_Sales', color='Year',\n",
    "              labels={'Week': 'Week', 'Weekly_Sales': 'Total Sales', 'Year': 'Year'},\n",
    "              title='Store 39 Sales Comparison for 2010 and 2011 by Week')\n",
    "fig.update_traces(mode='markers+lines')\n",
    "fig.add_annotation(text=\"Thanksgiving\", x=47, y=2500000, showarrow=False)\n",
    "fig.add_annotation(text=\"Christmas\", x=51, y=2700000, showarrow=False)\n",
    "fig.update_layout(xaxis_title='Week', yaxis_title='Total Sales', showlegend=True)\n",
    "fig.show()"
   ]
  },
  {
   "cell_type": "code",
   "execution_count": null,
   "metadata": {
    "execution": {
     "iopub.execute_input": "2023-11-19T07:34:33.915528Z",
     "iopub.status.busy": "2023-11-19T07:34:33.915149Z",
     "iopub.status.idle": "2023-11-19T07:34:34.005359Z",
     "shell.execute_reply": "2023-11-19T07:34:34.004146Z",
     "shell.execute_reply.started": "2023-11-19T07:34:33.915496Z"
    }
   },
   "outputs": [],
   "source": [
    "store_19_sales = df1[(df1['Store'] == 39) & (df1['Year'].isin([2010, 2011]))]\n",
    "store_19_monthly_sales = store_19_sales.groupby(['Year', 'Month'])['Weekly_Sales'].sum().reset_index()\n",
    "fig = px.line(store_19_monthly_sales, x='Month', y='Weekly_Sales', color='Year',\n",
    "              labels={'Month': 'Month', 'Weekly_Sales': 'Total Sales', 'Year': 'Year'},\n",
    "              title='Store 39 Sales Comparison for 2010 and 2011 by Month')\n",
    "fig.update_traces(mode='markers+lines')\n",
    "fig.update_layout(xaxis_title='Month', yaxis_title='Total Sales', showlegend=True)\n",
    "fig.show()"
   ]
  },
  {
   "cell_type": "code",
   "execution_count": null,
   "metadata": {
    "execution": {
     "iopub.execute_input": "2023-11-19T07:34:34.007300Z",
     "iopub.status.busy": "2023-11-19T07:34:34.006917Z",
     "iopub.status.idle": "2023-11-19T07:34:34.102799Z",
     "shell.execute_reply": "2023-11-19T07:34:34.100856Z",
     "shell.execute_reply.started": "2023-11-19T07:34:34.007226Z"
    }
   },
   "outputs": [],
   "source": [
    "stores_19_39_2010 = df1[(df1['Year'] == 2010) & (df1['Store'].isin([19, 39]))]\n",
    "stores_19_39_2010_weekly_sales = stores_19_39_2010.groupby(['Store', 'Year', 'Week'])['Weekly_Sales'].sum().reset_index()\n",
    "\n",
    "fig = px.line(stores_19_39_2010_weekly_sales, x='Week', y='Weekly_Sales', color='Store',\n",
    "              labels={'Week': 'Week', 'Weekly_Sales': 'Total Sales', 'Store': 'Store'},\n",
    "              title='Stores 19 and 39 Sales Comparison for 2010 by Week')\n",
    "fig.update_traces(mode='markers+lines')\n",
    "fig.add_annotation(text=\"Thanksgiving\", x=47, y=2300000, showarrow=False)\n",
    "fig.add_annotation(text=\"Christmas\", x=51, y=2900000, showarrow=False)\n",
    "fig.update_layout(xaxis_title='Week', yaxis_title='Total Sales', showlegend=True)\n",
    "fig.show()"
   ]
  },
  {
   "cell_type": "code",
   "execution_count": null,
   "metadata": {
    "execution": {
     "iopub.execute_input": "2023-11-19T07:34:34.104620Z",
     "iopub.status.busy": "2023-11-19T07:34:34.104301Z",
     "iopub.status.idle": "2023-11-19T07:34:34.195164Z",
     "shell.execute_reply": "2023-11-19T07:34:34.194068Z",
     "shell.execute_reply.started": "2023-11-19T07:34:34.104593Z"
    }
   },
   "outputs": [],
   "source": [
    "stores_19_39_2011 = df1[(df1['Year'] == 2010) & (df1['Store'].isin([19, 39]))]\n",
    "stores_19_39_2011_monthly_sales = stores_19_39_2011.groupby(['Store', 'Year', 'Month'])['Weekly_Sales'].sum().reset_index()\n",
    "\n",
    "fig = px.line(stores_19_39_2011_monthly_sales, x='Month', y='Weekly_Sales', color='Store',\n",
    "              labels={'Month': 'Month', 'Weekly_Sales': 'Total Sales', 'Store': 'Store'},\n",
    "              title='Stores 19 and 39 Sales Comparison for 2010 by Month')\n",
    "fig.update_traces(mode='markers+lines')\n",
    "fig.update_layout(xaxis_title='Month', yaxis_title='Total Sales', showlegend=True)\n",
    "fig.show()"
   ]
  },
  {
   "cell_type": "code",
   "execution_count": null,
   "metadata": {
    "execution": {
     "iopub.execute_input": "2023-11-19T07:34:34.197159Z",
     "iopub.status.busy": "2023-11-19T07:34:34.196697Z",
     "iopub.status.idle": "2023-11-19T07:34:34.294838Z",
     "shell.execute_reply": "2023-11-19T07:34:34.293700Z",
     "shell.execute_reply.started": "2023-11-19T07:34:34.197118Z"
    }
   },
   "outputs": [],
   "source": [
    "stores_19_39_2010 = df1[(df1['Year'] == 2011) & (df1['Store'].isin([19, 39]))]\n",
    "stores_19_39_2010_weekly_sales = stores_19_39_2010.groupby(['Store', 'Year', 'Week'])['Weekly_Sales'].sum().reset_index()\n",
    "\n",
    "fig = px.line(stores_19_39_2010_weekly_sales, x='Week', y='Weekly_Sales', color='Store',\n",
    "              labels={'Week': 'Week', 'Weekly_Sales': 'Total Sales', 'Store': 'Store'},\n",
    "              title='Stores 19 and 39 Sales Comparison for 2010 by Week')\n",
    "fig.update_traces(mode='markers+lines')\n",
    "fig.add_annotation(text=\"Thanksgiving\", x=47, y=2500000, showarrow=False)\n",
    "fig.add_annotation(text=\"Christmas\", x=51, y=2700000, showarrow=False)\n",
    "fig.update_layout(xaxis_title='Week', yaxis_title='Total Sales', showlegend=True)\n",
    "fig.show()"
   ]
  },
  {
   "cell_type": "code",
   "execution_count": null,
   "metadata": {
    "execution": {
     "iopub.execute_input": "2023-11-19T07:34:34.297051Z",
     "iopub.status.busy": "2023-11-19T07:34:34.296582Z",
     "iopub.status.idle": "2023-11-19T07:34:34.581705Z",
     "shell.execute_reply": "2023-11-19T07:34:34.580233Z",
     "shell.execute_reply.started": "2023-11-19T07:34:34.297009Z"
    }
   },
   "outputs": [],
   "source": [
    "stores_19_39_2011 = df1[(df1['Year'] == 2011) & (df1['Store'].isin([19, 39]))]\n",
    "stores_19_39_2011_monthly_sales = stores_19_39_2011.groupby(['Store', 'Year', 'Month'])['Weekly_Sales'].sum().reset_index()\n",
    "\n",
    "fig = px.line(stores_19_39_2011_monthly_sales, x='Month', y='Weekly_Sales', color='Store',\n",
    "              labels={'Month': 'Month', 'Weekly_Sales': 'Total Sales', 'Store': 'Store'},\n",
    "              title='Stores 19 and 39 Sales Comparison for 2011 by Month')\n",
    "fig.update_traces(mode='markers+lines')\n",
    "fig.update_layout(xaxis_title='Month', yaxis_title='Total Sales', showlegend=True)\n",
    "fig.show()"
   ]
  },
  {
   "cell_type": "markdown",
   "metadata": {},
   "source": [
    "#### 🍂Insights: We can see that there is significant difference in the performance of the stores 19 and 39 from the month `8` to `12`, also we can clearly see the difference in sales during the week `47` i.e during `Thanksgiving`.This might have resulted in the store 19 to loose it's position from the top 10 stores for the year `2011`."
   ]
  },
  {
   "cell_type": "markdown",
   "metadata": {},
   "source": [
    "### 🍁Temperature"
   ]
  },
  {
   "cell_type": "code",
   "execution_count": null,
   "metadata": {
    "execution": {
     "iopub.execute_input": "2023-11-19T07:34:34.583836Z",
     "iopub.status.busy": "2023-11-19T07:34:34.583375Z",
     "iopub.status.idle": "2023-11-19T07:34:34.597888Z",
     "shell.execute_reply": "2023-11-19T07:34:34.596414Z",
     "shell.execute_reply.started": "2023-11-19T07:34:34.583793Z"
    }
   },
   "outputs": [],
   "source": [
    "df1['Temperature'].unique()"
   ]
  },
  {
   "cell_type": "code",
   "execution_count": null,
   "metadata": {
    "execution": {
     "iopub.execute_input": "2023-11-19T07:34:34.599674Z",
     "iopub.status.busy": "2023-11-19T07:34:34.599324Z",
     "iopub.status.idle": "2023-11-19T07:34:34.613370Z",
     "shell.execute_reply": "2023-11-19T07:34:34.612209Z",
     "shell.execute_reply.started": "2023-11-19T07:34:34.599642Z"
    }
   },
   "outputs": [],
   "source": [
    "df1['Temperature'].unique().size"
   ]
  },
  {
   "cell_type": "markdown",
   "metadata": {},
   "source": [
    "##### Converting The temperature to `Celsius` for a better interpretation"
   ]
  },
  {
   "cell_type": "code",
   "execution_count": null,
   "metadata": {
    "execution": {
     "iopub.execute_input": "2023-11-19T07:34:34.615653Z",
     "iopub.status.busy": "2023-11-19T07:34:34.615303Z",
     "iopub.status.idle": "2023-11-19T07:34:34.856462Z",
     "shell.execute_reply": "2023-11-19T07:34:34.855251Z",
     "shell.execute_reply.started": "2023-11-19T07:34:34.615624Z"
    }
   },
   "outputs": [],
   "source": [
    "df1['Temperature']=df1['Temperature'].apply(lambda x :  (x - 32) / 1.8)"
   ]
  },
  {
   "cell_type": "code",
   "execution_count": null,
   "metadata": {
    "execution": {
     "iopub.execute_input": "2023-11-19T07:34:34.858324Z",
     "iopub.status.busy": "2023-11-19T07:34:34.857949Z",
     "iopub.status.idle": "2023-11-19T07:34:34.870264Z",
     "shell.execute_reply": "2023-11-19T07:34:34.869421Z",
     "shell.execute_reply.started": "2023-11-19T07:34:34.858291Z"
    }
   },
   "outputs": [],
   "source": [
    "df1['Temperature'].unique()"
   ]
  },
  {
   "cell_type": "code",
   "execution_count": null,
   "metadata": {
    "execution": {
     "iopub.execute_input": "2023-11-19T07:34:34.871944Z",
     "iopub.status.busy": "2023-11-19T07:34:34.871639Z",
     "iopub.status.idle": "2023-11-19T07:34:37.327566Z",
     "shell.execute_reply": "2023-11-19T07:34:37.325891Z",
     "shell.execute_reply.started": "2023-11-19T07:34:34.871918Z"
    }
   },
   "outputs": [],
   "source": [
    "fig = px.histogram(df1, x='Temperature', y='Weekly_Sales', color='IsHoliday', marginal='box', opacity=0.6,\n",
    "                   title='Temperature and Sales by Holiday', color_discrete_sequence=['orchid', 'darkmagenta'])\n",
    "fig.show()"
   ]
  },
  {
   "cell_type": "code",
   "execution_count": null,
   "metadata": {
    "execution": {
     "iopub.execute_input": "2023-11-19T07:34:37.330626Z",
     "iopub.status.busy": "2023-11-19T07:34:37.329432Z",
     "iopub.status.idle": "2023-11-19T07:34:38.793662Z",
     "shell.execute_reply": "2023-11-19T07:34:38.791634Z",
     "shell.execute_reply.started": "2023-11-19T07:34:37.330591Z"
    }
   },
   "outputs": [],
   "source": [
    "scatter_fig = px.scatter(df1, x='Temperature', y='Weekly_Sales', title='Temperature vs Weekly Sales', color_discrete_sequence=['mediumvioletred'])\n",
    "scatter_fig.update_layout(xaxis_title='Temperature', yaxis_title='Weekly Sales')\n",
    "scatter_fig.show()"
   ]
  },
  {
   "cell_type": "markdown",
   "metadata": {},
   "source": [
    "#### 🍂Insights: There is a pattern between the coldness and the sales, obviously related to the fact that the USA is in the northern hemisphere, and it is a country where a large part of it experiences cold temperatures for this time."
   ]
  },
  {
   "cell_type": "markdown",
   "metadata": {},
   "source": [
    "### 🍁Fuel Price"
   ]
  },
  {
   "cell_type": "code",
   "execution_count": null,
   "metadata": {
    "execution": {
     "iopub.execute_input": "2023-11-20T14:38:38.176553Z",
     "iopub.status.busy": "2023-11-20T14:38:38.176099Z",
     "iopub.status.idle": "2023-11-20T14:38:39.753411Z",
     "shell.execute_reply": "2023-11-20T14:38:39.750254Z",
     "shell.execute_reply.started": "2023-11-20T14:38:38.176519Z"
    }
   },
   "outputs": [],
   "source": [
    "fig = px.histogram(df1, x='Fuel_Price', y='Weekly_Sales', color='IsHoliday', marginal='box', opacity=0.6,\n",
    "                   title='Fule Price and Sales by Holiday', color_discrete_sequence=['black', 'gold'])\n",
    "fig.show()"
   ]
  },
  {
   "cell_type": "code",
   "execution_count": null,
   "metadata": {
    "execution": {
     "iopub.execute_input": "2023-11-19T07:34:40.344752Z",
     "iopub.status.busy": "2023-11-19T07:34:40.343631Z",
     "iopub.status.idle": "2023-11-19T07:34:41.360801Z",
     "shell.execute_reply": "2023-11-19T07:34:41.359057Z",
     "shell.execute_reply.started": "2023-11-19T07:34:40.344676Z"
    }
   },
   "outputs": [],
   "source": [
    "scatter_fig = px.scatter(df1, x='Fuel_Price', y='Weekly_Sales', title='Fuel Price vs Weekly Sales', color_discrete_sequence=['firebrick'])\n",
    "scatter_fig.update_layout(xaxis_title='Fuel Price', yaxis_title='Weekly Sales')\n",
    "scatter_fig.show()"
   ]
  },
  {
   "cell_type": "markdown",
   "metadata": {},
   "source": [
    "#### 🍂Insights: There is not a very clear pattern here, but you can see that the lower the fuel price, the more sales."
   ]
  },
  {
   "cell_type": "markdown",
   "metadata": {},
   "source": [
    "### 🍁CPI"
   ]
  },
  {
   "cell_type": "code",
   "execution_count": null,
   "metadata": {
    "execution": {
     "iopub.execute_input": "2023-11-19T07:34:41.364398Z",
     "iopub.status.busy": "2023-11-19T07:34:41.364039Z",
     "iopub.status.idle": "2023-11-19T07:34:43.622880Z",
     "shell.execute_reply": "2023-11-19T07:34:43.621044Z",
     "shell.execute_reply.started": "2023-11-19T07:34:41.364367Z"
    }
   },
   "outputs": [],
   "source": [
    "fig = px.histogram(df1, x='CPI', y='Weekly_Sales', color='IsHoliday', marginal='box', opacity=0.6,\n",
    "                   title='CPI and Sales by Holiday', color_discrete_sequence=['mediumseagreen', 'yellowgreen'])\n",
    "fig.show()"
   ]
  },
  {
   "cell_type": "code",
   "execution_count": null,
   "metadata": {
    "execution": {
     "iopub.execute_input": "2023-11-19T07:34:43.626381Z",
     "iopub.status.busy": "2023-11-19T07:34:43.625279Z",
     "iopub.status.idle": "2023-11-19T07:34:44.826374Z",
     "shell.execute_reply": "2023-11-19T07:34:44.821815Z",
     "shell.execute_reply.started": "2023-11-19T07:34:43.626312Z"
    }
   },
   "outputs": [],
   "source": [
    "scatter_fig = px.scatter(df1, x='CPI', y='Weekly_Sales', title='CPI vs Weekly Sales', color_discrete_sequence=['teal'])\n",
    "scatter_fig.update_layout(xaxis_title='CPI', yaxis_title='Weekly Sales')\n",
    "scatter_fig.show()"
   ]
  },
  {
   "cell_type": "markdown",
   "metadata": {},
   "source": [
    "#### 🍂Insights: The CPI indeed affects the Sales behaviour, but not in magnitude i think, also the sales with a middle CPI are lower."
   ]
  },
  {
   "cell_type": "markdown",
   "metadata": {},
   "source": [
    "### 🍁Unemployment"
   ]
  },
  {
   "cell_type": "code",
   "execution_count": null,
   "metadata": {
    "execution": {
     "iopub.execute_input": "2023-11-20T14:43:43.461555Z",
     "iopub.status.busy": "2023-11-20T14:43:43.460957Z",
     "iopub.status.idle": "2023-11-20T14:43:45.119145Z",
     "shell.execute_reply": "2023-11-20T14:43:45.116906Z",
     "shell.execute_reply.started": "2023-11-20T14:43:43.461499Z"
    }
   },
   "outputs": [],
   "source": [
    "fig = px.histogram(df1, x='Unemployment', y='Weekly_Sales', color='IsHoliday', marginal='box', opacity=0.6,\n",
    "                   title='Unemployment and Sales by Holiday', color_discrete_sequence=['darkslategrey', 'lightslategrey'])\n",
    "fig.show()"
   ]
  },
  {
   "cell_type": "code",
   "execution_count": null,
   "metadata": {
    "execution": {
     "iopub.execute_input": "2023-11-20T14:45:08.084845Z",
     "iopub.status.busy": "2023-11-20T14:45:08.084271Z",
     "iopub.status.idle": "2023-11-20T14:45:09.248973Z",
     "shell.execute_reply": "2023-11-20T14:45:09.246493Z",
     "shell.execute_reply.started": "2023-11-20T14:45:08.084801Z"
    }
   },
   "outputs": [],
   "source": [
    "scatter_fig = px.scatter(df1, x='Unemployment', y='Weekly_Sales', title='Unemployment vs Weekly Sales', color_discrete_sequence=['gray'])\n",
    "scatter_fig.update_layout(xaxis_title='Unemployment', yaxis_title='Weekly Sales')\n",
    "scatter_fig.show()"
   ]
  },
  {
   "cell_type": "markdown",
   "metadata": {
    "execution": {
     "iopub.execute_input": "2023-11-18T20:14:52.819190Z",
     "iopub.status.busy": "2023-11-18T20:14:52.818648Z",
     "iopub.status.idle": "2023-11-18T20:14:52.827395Z",
     "shell.execute_reply": "2023-11-18T20:14:52.825256Z",
     "shell.execute_reply.started": "2023-11-18T20:14:52.819149Z"
    }
   },
   "source": [
    "#### 🍂Insights: It can be seen that the lower the value, higher are the sales, as it makes sense"
   ]
  },
  {
   "cell_type": "markdown",
   "metadata": {},
   "source": [
    "### 🍁Size & Type"
   ]
  },
  {
   "cell_type": "code",
   "execution_count": null,
   "metadata": {
    "execution": {
     "iopub.execute_input": "2023-11-19T07:34:47.369326Z",
     "iopub.status.busy": "2023-11-19T07:34:47.368954Z",
     "iopub.status.idle": "2023-11-19T07:34:47.447535Z",
     "shell.execute_reply": "2023-11-19T07:34:47.446441Z",
     "shell.execute_reply.started": "2023-11-19T07:34:47.369296Z"
    }
   },
   "outputs": [],
   "source": [
    "sizes = df1.groupby('Size')['Weekly_Sales'].sum().reset_index()\n",
    "\n",
    "# Plotting the aggregated data\n",
    "fig = px.line(sizes, x='Size', y='Weekly_Sales', title='Store size and Sales')\n",
    "fig.show()"
   ]
  },
  {
   "cell_type": "code",
   "execution_count": null,
   "metadata": {
    "execution": {
     "iopub.execute_input": "2023-11-19T07:34:47.449418Z",
     "iopub.status.busy": "2023-11-19T07:34:47.449072Z",
     "iopub.status.idle": "2023-11-19T07:34:49.737543Z",
     "shell.execute_reply": "2023-11-19T07:34:49.736444Z",
     "shell.execute_reply.started": "2023-11-19T07:34:47.449388Z"
    }
   },
   "outputs": [],
   "source": [
    "plt.figure(figsize=(12, 6)) \n",
    "sns.kdeplot(df1['Size'], fill=True)\n",
    "plt.xlabel('Size')\n",
    "plt.ylabel('Density')\n",
    "plt.title('Density Plot of Store Sizes')\n",
    "plt.show()"
   ]
  },
  {
   "cell_type": "markdown",
   "metadata": {
    "execution": {
     "iopub.execute_input": "2023-11-19T03:51:08.449804Z",
     "iopub.status.busy": "2023-11-19T03:51:08.449474Z"
    }
   },
   "source": [
    "fig = px.histogram(df1, x='Size', marginal='rug', nbins=20, histnorm='density')\n",
    "fig.update_traces(opacity=0.5)\n",
    "fig.update_layout(\n",
    "    xaxis_title='Size',\n",
    "    yaxis_title='Density',\n",
    "    title='Density Plot of Store Sizes'\n",
    ")\n",
    "fig.show()"
   ]
  },
  {
   "cell_type": "markdown",
   "metadata": {},
   "source": [
    "#### 🍂Insights: Size is an important factor when it comes to sales, as you can see here."
   ]
  },
  {
   "cell_type": "code",
   "execution_count": null,
   "metadata": {
    "execution": {
     "iopub.execute_input": "2023-11-19T07:34:49.739459Z",
     "iopub.status.busy": "2023-11-19T07:34:49.739014Z",
     "iopub.status.idle": "2023-11-19T07:34:49.746354Z",
     "shell.execute_reply": "2023-11-19T07:34:49.745237Z",
     "shell.execute_reply.started": "2023-11-19T07:34:49.739420Z"
    }
   },
   "outputs": [],
   "source": [
    "palletes = {\n",
    "   'continuos':{'blues': ['#03045E', '#023E8A', '#0077B6', '#0077B6', '#0096C7', '#00B4D8', '#48CAE4', '#90E0EF', '#ADE8F4', '#CAF0F8'],\n",
    "                'green_n_blues': ['#D9ED92', '#B5E48C', '#99D98C', '#76C893', '#52B69A', '#34A0A4', '#168AAD', '#1A759F', '#1E6091', '#184E77']\n",
    "               }\n",
    "}"
   ]
  },
  {
   "cell_type": "code",
   "execution_count": null,
   "metadata": {
    "execution": {
     "iopub.execute_input": "2023-11-19T07:34:49.748244Z",
     "iopub.status.busy": "2023-11-19T07:34:49.747844Z",
     "iopub.status.idle": "2023-11-19T07:34:51.930506Z",
     "shell.execute_reply": "2023-11-19T07:34:51.927640Z",
     "shell.execute_reply.started": "2023-11-19T07:34:49.748212Z"
    }
   },
   "outputs": [],
   "source": [
    "px.box(df1, x='Type', y='Size', color='Type',\n",
    "       title='Store size and Store type', \n",
    "             color_discrete_sequence=palletes['continuos']['blues'])"
   ]
  },
  {
   "cell_type": "markdown",
   "metadata": {},
   "source": [
    "#### 🍂Insights: Within size we can see that there are 3 types of stores, the A are the highest."
   ]
  },
  {
   "cell_type": "code",
   "execution_count": null,
   "metadata": {
    "execution": {
     "iopub.execute_input": "2023-11-19T07:38:41.131569Z",
     "iopub.status.busy": "2023-11-19T07:38:41.131173Z",
     "iopub.status.idle": "2023-11-19T07:38:43.639298Z",
     "shell.execute_reply": "2023-11-19T07:38:43.637267Z",
     "shell.execute_reply.started": "2023-11-19T07:38:41.131537Z"
    }
   },
   "outputs": [],
   "source": [
    "px.box(df1, x='Type', y='Weekly_Sales', color='Type', \n",
    "       title='Store type and sales', color_discrete_sequence=palletes['continuos']['blues'])"
   ]
  },
  {
   "cell_type": "markdown",
   "metadata": {},
   "source": [
    "#### 🍂Insights: In relation to the type of store we can see that although the C are the smallest ones, they are those that have the highest median sales."
   ]
  },
  {
   "cell_type": "code",
   "execution_count": null,
   "metadata": {
    "execution": {
     "iopub.execute_input": "2023-11-19T07:38:44.814943Z",
     "iopub.status.busy": "2023-11-19T07:38:44.814359Z"
    }
   },
   "outputs": [],
   "source": [
    "Q1 = df1['Weekly_Sales'].quantile(0.25)\n",
    "Q3 = df1['Weekly_Sales'].quantile(0.75)\n",
    "IQR = Q3 - Q1\n",
    "\n",
    "lower_bound = Q1 - 1.5 * IQR\n",
    "upper_bound = Q3 + 1.5 * IQR\n",
    "\n",
    "filtered_data = df1[(df1['Weekly_Sales'] > lower_bound) & (df1['Weekly_Sales'] < upper_bound)]\n",
    "\n",
    "fig = px.box(filtered_data, x='Type', y='Weekly_Sales', color='Type', \n",
    "             title='Store Type and Sales Comparison (Outliers Removed)', color_discrete_sequence=palletes['continuos']['blues'])\n",
    "fig.update_layout(xaxis_title='Store Type', yaxis_title='Weekly Sales')\n",
    "fig.show()"
   ]
  },
  {
   "cell_type": "code",
   "execution_count": null,
   "metadata": {},
   "outputs": [],
   "source": [
    "df_iqr_out=df1.loc[(df1['Weekly_Sales']>upper_bound) | (df1['Weekly_Sales']<lower_bound)]\n",
    "df_iqr_out.shape"
   ]
  },
  {
   "cell_type": "markdown",
   "metadata": {},
   "source": [
    "### 🍁Correlation with Sales"
   ]
  },
  {
   "cell_type": "code",
   "execution_count": null,
   "metadata": {},
   "outputs": [],
   "source": [
    "df1c=df1.copy()\n",
    "type_mapping = {'A': 0, 'B': 1, 'C': 2}\n",
    "df1c['Type_Encoded'] = df1c['Type'].map(type_mapping)\n",
    "df1c=df1c.select_dtypes(exclude='object')\n",
    "corr = df1c.corr()\n",
    "\n",
    "mask = np.triu(np.ones_like(corr, dtype=bool))\n",
    "df_mask = corr.mask(mask).round(2)\n",
    "\n",
    "fig = ff.create_annotated_heatmap(\n",
    "    z=df_mask.to_numpy(),\n",
    "    x=df_mask.columns.tolist(),\n",
    "    y=df_mask.columns.tolist(),\n",
    "    colorscale=palletes['continuos']['green_n_blues'],\n",
    "    hoverinfo='none',\n",
    "    showscale=True,\n",
    "    ygap=1,\n",
    "    xgap=1\n",
    ")\n",
    "\n",
    "fig.update_xaxes(side='bottom')\n",
    "\n",
    "fig.update_layout(\n",
    "    title='<b>Feature Correlation (Heatmap)</b>',\n",
    "    title_x=0.5,\n",
    "    width=1100,\n",
    "    height=700,\n",
    "    xaxis_showgrid=False,\n",
    "    yaxis_showgrid=False,\n",
    "    xaxis_zeroline=False,\n",
    "    yaxis_zeroline=False,\n",
    "    yaxis_autorange='reversed',\n",
    ")\n",
    "\n",
    "for i in range(len(fig.layout.annotations)):\n",
    "    if fig.layout.annotations[i].text == 'nan':\n",
    "        fig.layout.annotations[i].text = \"\"\n",
    "\n",
    "fig.show()"
   ]
  },
  {
   "cell_type": "code",
   "execution_count": null,
   "metadata": {},
   "outputs": [],
   "source": [
    "weekly_sales_corr = df1c.corr().iloc[12, :]\n",
    "corr_df = pd.DataFrame(data=weekly_sales_corr, index=weekly_sales_corr.index).sort_values(by=['Weekly_Sales'], ascending=False)\n",
    "corr_df = corr_df.iloc[1:]\n",
    "\n",
    "fig = px.bar(corr_df, x=corr_df.index, y='Weekly_Sales', color=corr_df.index, labels={'index': 'Features'},\n",
    "             color_discrete_sequence=palletes['continuos']['green_n_blues'])  # Change the color scheme if needed\n",
    "\n",
    "fig.update_traces(showlegend=False)\n",
    "fig.update_layout(width=1100, height=700)\n",
    "fig.show()"
   ]
  },
  {
   "cell_type": "markdown",
   "metadata": {},
   "source": [
    "## 🍀Feature Importance"
   ]
  },
  {
   "cell_type": "code",
   "execution_count": null,
   "metadata": {},
   "outputs": [],
   "source": [
    "type_mapping = {True: 0, False: 1}\n",
    "df1c['IsHoliday_Encoded'] = df1c['IsHoliday'].map(type_mapping)"
   ]
  },
  {
   "cell_type": "code",
   "execution_count": null,
   "metadata": {},
   "outputs": [],
   "source": [
    "df1c.drop('IsHoliday', axis=1, inplace=True)"
   ]
  },
  {
   "cell_type": "code",
   "execution_count": null,
   "metadata": {},
   "outputs": [],
   "source": [
    "df1c=df1c[['Store', 'Dept', 'Week', 'Month', 'Year', 'Temperature', 'Fuel_Price',\n",
    "       'Unemployment','IsHoliday_Encoded', 'Type_Encoded', 'Size', 'CPI', 'Weekly_Sales'\n",
    "       ]]"
   ]
  },
  {
   "cell_type": "code",
   "execution_count": null,
   "metadata": {},
   "outputs": [],
   "source": [
    "df1c_sample=df1c.copy().sample(frac=.25)\n",
    "X=df1c_sample.iloc[:,:-1].values\n",
    "y=df1c_sample.iloc[:,-1].values\n",
    "X.shape, y.shape"
   ]
  },
  {
   "cell_type": "code",
   "execution_count": null,
   "metadata": {},
   "outputs": [],
   "source": [
    "X_train, X_test, y_train, y_test=train_test_split(X,y, test_size=0.2, random_state=0)"
   ]
  },
  {
   "cell_type": "code",
   "execution_count": null,
   "metadata": {},
   "outputs": [],
   "source": [
    "feat_model=xgb.XGBRegressor(random_state=0).fit(X_train, y_train)\n",
    "perm_importance = permutation_importance(feat_model, X_test, y_test, random_state=1)\n",
    "importances = perm_importance.importances_mean"
   ]
  },
  {
   "cell_type": "code",
   "execution_count": null,
   "metadata": {},
   "outputs": [],
   "source": [
    "importance_df = pd.DataFrame({'Feature': ['Store', 'Dept', 'Week', 'Month', 'Year', 'Temperature', 'Fuel_Price',\n",
    "       'Unemployment','IsHoliday_Encoded', 'Type_Encoded', 'Size', 'CPI'\n",
    "       ], 'Importance': importances})\n",
    "importance_df = importance_df.sort_values(by='Importance', ascending=False)\n",
    "importance_df"
   ]
  },
  {
   "cell_type": "code",
   "execution_count": null,
   "metadata": {},
   "outputs": [],
   "source": [
    "fig = px.bar(importance_df, y='Importance', x='Feature',\n",
    "             labels={'Feature': 'Features', 'Importance': 'Importance'},\n",
    "             orientation='v', title='Feature Importances')\n",
    "\n",
    "fig.update_traces(marker_color=palletes['continuos']['blues'])\n",
    "fig.update_layout(width=1100, height=600)\n",
    "fig.update_layout(yaxis_tickangle=0, yaxis=dict(categoryorder='total descending'))\n",
    "fig.show()"
   ]
  }
 ],
 "metadata": {
  "kaggle": {
   "accelerator": "none",
   "dataSources": [
    {
     "databundleVersionId": 32105,
     "sourceId": 3816,
     "sourceType": "competition"
    }
   ],
   "dockerImageVersionId": 30587,
   "isGpuEnabled": false,
   "isInternetEnabled": true,
   "language": "python",
   "sourceType": "notebook"
  },
  "kernelspec": {
   "display_name": "Python 3 (ipykernel)",
   "language": "python",
   "name": "python3"
  },
  "language_info": {
   "codemirror_mode": {
    "name": "ipython",
    "version": 3
   },
   "file_extension": ".py",
   "mimetype": "text/x-python",
   "name": "python",
   "nbconvert_exporter": "python",
   "pygments_lexer": "ipython3",
   "version": "3.10.6"
  }
 },
 "nbformat": 4,
 "nbformat_minor": 4
}
